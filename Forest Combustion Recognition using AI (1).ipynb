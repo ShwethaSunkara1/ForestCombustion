{
 "cells": [
  {
   "cell_type": "code",
   "execution_count": 1,
   "metadata": {},
   "outputs": [
    {
     "name": "stderr",
     "output_type": "stream",
     "text": [
      "Using TensorFlow backend.\n",
      "C:\\ProgramData\\Anaconda3\\lib\\site-packages\\tensorflow\\python\\framework\\dtypes.py:516: FutureWarning: Passing (type, 1) or '1type' as a synonym of type is deprecated; in a future version of numpy, it will be understood as (type, (1,)) / '(1,)type'.\n",
      "  _np_qint8 = np.dtype([(\"qint8\", np.int8, 1)])\n",
      "C:\\ProgramData\\Anaconda3\\lib\\site-packages\\tensorflow\\python\\framework\\dtypes.py:517: FutureWarning: Passing (type, 1) or '1type' as a synonym of type is deprecated; in a future version of numpy, it will be understood as (type, (1,)) / '(1,)type'.\n",
      "  _np_quint8 = np.dtype([(\"quint8\", np.uint8, 1)])\n",
      "C:\\ProgramData\\Anaconda3\\lib\\site-packages\\tensorflow\\python\\framework\\dtypes.py:518: FutureWarning: Passing (type, 1) or '1type' as a synonym of type is deprecated; in a future version of numpy, it will be understood as (type, (1,)) / '(1,)type'.\n",
      "  _np_qint16 = np.dtype([(\"qint16\", np.int16, 1)])\n",
      "C:\\ProgramData\\Anaconda3\\lib\\site-packages\\tensorflow\\python\\framework\\dtypes.py:519: FutureWarning: Passing (type, 1) or '1type' as a synonym of type is deprecated; in a future version of numpy, it will be understood as (type, (1,)) / '(1,)type'.\n",
      "  _np_quint16 = np.dtype([(\"quint16\", np.uint16, 1)])\n",
      "C:\\ProgramData\\Anaconda3\\lib\\site-packages\\tensorflow\\python\\framework\\dtypes.py:520: FutureWarning: Passing (type, 1) or '1type' as a synonym of type is deprecated; in a future version of numpy, it will be understood as (type, (1,)) / '(1,)type'.\n",
      "  _np_qint32 = np.dtype([(\"qint32\", np.int32, 1)])\n",
      "C:\\ProgramData\\Anaconda3\\lib\\site-packages\\tensorflow\\python\\framework\\dtypes.py:525: FutureWarning: Passing (type, 1) or '1type' as a synonym of type is deprecated; in a future version of numpy, it will be understood as (type, (1,)) / '(1,)type'.\n",
      "  np_resource = np.dtype([(\"resource\", np.ubyte, 1)])\n",
      "C:\\ProgramData\\Anaconda3\\lib\\site-packages\\tensorboard\\compat\\tensorflow_stub\\dtypes.py:541: FutureWarning: Passing (type, 1) or '1type' as a synonym of type is deprecated; in a future version of numpy, it will be understood as (type, (1,)) / '(1,)type'.\n",
      "  _np_qint8 = np.dtype([(\"qint8\", np.int8, 1)])\n",
      "C:\\ProgramData\\Anaconda3\\lib\\site-packages\\tensorboard\\compat\\tensorflow_stub\\dtypes.py:542: FutureWarning: Passing (type, 1) or '1type' as a synonym of type is deprecated; in a future version of numpy, it will be understood as (type, (1,)) / '(1,)type'.\n",
      "  _np_quint8 = np.dtype([(\"quint8\", np.uint8, 1)])\n",
      "C:\\ProgramData\\Anaconda3\\lib\\site-packages\\tensorboard\\compat\\tensorflow_stub\\dtypes.py:543: FutureWarning: Passing (type, 1) or '1type' as a synonym of type is deprecated; in a future version of numpy, it will be understood as (type, (1,)) / '(1,)type'.\n",
      "  _np_qint16 = np.dtype([(\"qint16\", np.int16, 1)])\n",
      "C:\\ProgramData\\Anaconda3\\lib\\site-packages\\tensorboard\\compat\\tensorflow_stub\\dtypes.py:544: FutureWarning: Passing (type, 1) or '1type' as a synonym of type is deprecated; in a future version of numpy, it will be understood as (type, (1,)) / '(1,)type'.\n",
      "  _np_quint16 = np.dtype([(\"quint16\", np.uint16, 1)])\n",
      "C:\\ProgramData\\Anaconda3\\lib\\site-packages\\tensorboard\\compat\\tensorflow_stub\\dtypes.py:545: FutureWarning: Passing (type, 1) or '1type' as a synonym of type is deprecated; in a future version of numpy, it will be understood as (type, (1,)) / '(1,)type'.\n",
      "  _np_qint32 = np.dtype([(\"qint32\", np.int32, 1)])\n",
      "C:\\ProgramData\\Anaconda3\\lib\\site-packages\\tensorboard\\compat\\tensorflow_stub\\dtypes.py:550: FutureWarning: Passing (type, 1) or '1type' as a synonym of type is deprecated; in a future version of numpy, it will be understood as (type, (1,)) / '(1,)type'.\n",
      "  np_resource = np.dtype([(\"resource\", np.ubyte, 1)])\n"
     ]
    }
   ],
   "source": [
    "from keras.models import Sequential\n",
    "from keras.layers import Dense\n",
    "from keras.layers import Convolution2D\n",
    "from keras.layers import Flatten\n",
    "from keras.layers import MaxPooling2D"
   ]
  },
  {
   "cell_type": "code",
   "execution_count": 2,
   "metadata": {},
   "outputs": [
    {
     "name": "stdout",
     "output_type": "stream",
     "text": [
      "WARNING:tensorflow:From C:\\ProgramData\\Anaconda3\\lib\\site-packages\\keras\\backend\\tensorflow_backend.py:74: The name tf.get_default_graph is deprecated. Please use tf.compat.v1.get_default_graph instead.\n",
      "\n"
     ]
    }
   ],
   "source": [
    "model = Sequential()"
   ]
  },
  {
   "cell_type": "code",
   "execution_count": 3,
   "metadata": {},
   "outputs": [
    {
     "name": "stdout",
     "output_type": "stream",
     "text": [
      "WARNING:tensorflow:From C:\\ProgramData\\Anaconda3\\lib\\site-packages\\keras\\backend\\tensorflow_backend.py:517: The name tf.placeholder is deprecated. Please use tf.compat.v1.placeholder instead.\n",
      "\n",
      "WARNING:tensorflow:From C:\\ProgramData\\Anaconda3\\lib\\site-packages\\keras\\backend\\tensorflow_backend.py:4138: The name tf.random_uniform is deprecated. Please use tf.random.uniform instead.\n",
      "\n"
     ]
    },
    {
     "name": "stderr",
     "output_type": "stream",
     "text": [
      "C:\\ProgramData\\Anaconda3\\lib\\site-packages\\ipykernel_launcher.py:1: UserWarning: Update your `Conv2D` call to the Keras 2 API: `Conv2D(32, (3, 3), input_shape=(64, 64, 3..., activation=\"relu\")`\n",
      "  \"\"\"Entry point for launching an IPython kernel.\n"
     ]
    }
   ],
   "source": [
    "model.add(Convolution2D(32,3,3,input_shape=(64,64,3),activation='relu'))"
   ]
  },
  {
   "cell_type": "code",
   "execution_count": 4,
   "metadata": {},
   "outputs": [
    {
     "name": "stdout",
     "output_type": "stream",
     "text": [
      "WARNING:tensorflow:From C:\\ProgramData\\Anaconda3\\lib\\site-packages\\keras\\backend\\tensorflow_backend.py:3976: The name tf.nn.max_pool is deprecated. Please use tf.nn.max_pool2d instead.\n",
      "\n"
     ]
    }
   ],
   "source": [
    "model.add(MaxPooling2D(pool_size=(2,2)))"
   ]
  },
  {
   "cell_type": "code",
   "execution_count": 5,
   "metadata": {},
   "outputs": [],
   "source": [
    "model.add(Flatten())"
   ]
  },
  {
   "cell_type": "code",
   "execution_count": 6,
   "metadata": {},
   "outputs": [
    {
     "name": "stderr",
     "output_type": "stream",
     "text": [
      "C:\\ProgramData\\Anaconda3\\lib\\site-packages\\ipykernel_launcher.py:1: UserWarning: Update your `Dense` call to the Keras 2 API: `Dense(activation=\"relu\", units=300, kernel_initializer=\"uniform\")`\n",
      "  \"\"\"Entry point for launching an IPython kernel.\n"
     ]
    }
   ],
   "source": [
    "model.add(Dense(init='uniform',activation='relu',units=300))"
   ]
  },
  {
   "cell_type": "code",
   "execution_count": 7,
   "metadata": {},
   "outputs": [
    {
     "name": "stderr",
     "output_type": "stream",
     "text": [
      "C:\\ProgramData\\Anaconda3\\lib\\site-packages\\ipykernel_launcher.py:1: UserWarning: Update your `Dense` call to the Keras 2 API: `Dense(activation=\"sigmoid\", units=1, kernel_initializer=\"uniform\")`\n",
      "  \"\"\"Entry point for launching an IPython kernel.\n"
     ]
    }
   ],
   "source": [
    "model.add(Dense(init='uniform',activation='sigmoid',units=1))"
   ]
  },
  {
   "cell_type": "code",
   "execution_count": 8,
   "metadata": {},
   "outputs": [
    {
     "name": "stdout",
     "output_type": "stream",
     "text": [
      "WARNING:tensorflow:From C:\\ProgramData\\Anaconda3\\lib\\site-packages\\keras\\optimizers.py:790: The name tf.train.Optimizer is deprecated. Please use tf.compat.v1.train.Optimizer instead.\n",
      "\n",
      "WARNING:tensorflow:From C:\\ProgramData\\Anaconda3\\lib\\site-packages\\keras\\backend\\tensorflow_backend.py:3376: The name tf.log is deprecated. Please use tf.math.log instead.\n",
      "\n",
      "WARNING:tensorflow:From C:\\ProgramData\\Anaconda3\\lib\\site-packages\\tensorflow\\python\\ops\\nn_impl.py:180: add_dispatch_support.<locals>.wrapper (from tensorflow.python.ops.array_ops) is deprecated and will be removed in a future version.\n",
      "Instructions for updating:\n",
      "Use tf.where in 2.0, which has the same broadcast rule as np.where\n"
     ]
    }
   ],
   "source": [
    "model.compile(loss='binary_crossentropy',optimizer='adam',metrics=['accuracy'])"
   ]
  },
  {
   "cell_type": "code",
   "execution_count": 9,
   "metadata": {
    "colab": {
     "base_uri": "https://localhost:8080/",
     "height": 34
    },
    "colab_type": "code",
    "executionInfo": {
     "elapsed": 2851,
     "status": "ok",
     "timestamp": 1589644670190,
     "user": {
      "displayName": "himaja chinamm",
      "photoUrl": "https://lh3.googleusercontent.com/a-/AOh14GjLOkXIWVXaJhfg2ZZlfOmOli8rhdpltTWSuNOXMQ=s64",
      "userId": "12626020970253881623"
     },
     "user_tz": -330
    },
    "id": "Zc4ar1LV21Nj",
    "outputId": "947ed3d6-45d0-4abf-d9d7-74f235c10d6d"
   },
   "outputs": [],
   "source": [
    "from keras.preprocessing.image import ImageDataGenerator\n",
    "train=ImageDataGenerator(rescale=1./255,shear_range=0.2,zoom_range=0.2,horizontal_flip=True)\n",
    "test=ImageDataGenerator(rescale=1./255)"
   ]
  },
  {
   "cell_type": "code",
   "execution_count": 10,
   "metadata": {
    "colab": {
     "base_uri": "https://localhost:8080/",
     "height": 51
    },
    "colab_type": "code",
    "executionInfo": {
     "elapsed": 1429,
     "status": "ok",
     "timestamp": 1589644706407,
     "user": {
      "displayName": "himaja chinamm",
      "photoUrl": "https://lh3.googleusercontent.com/a-/AOh14GjLOkXIWVXaJhfg2ZZlfOmOli8rhdpltTWSuNOXMQ=s64",
      "userId": "12626020970253881623"
     },
     "user_tz": -330
    },
    "id": "H87oqNsX-TKY",
    "outputId": "fcdc9b0e-9cc7-432c-838b-de84e811f871"
   },
   "outputs": [
    {
     "name": "stdout",
     "output_type": "stream",
     "text": [
      "Found 348 images belonging to 2 classes.\n",
      "Found 150 images belonging to 2 classes.\n"
     ]
    }
   ],
   "source": [
    "x_train=train.flow_from_directory(r'C:\\Users\\shekarvijaya\\Desktop\\forestfire\\train',target_size=(64,64),batch_size=32,class_mode='binary') \n",
    "x_test=train.flow_from_directory(r'C:\\Users\\shekarvijaya\\Desktop\\forestfire\\test',target_size=(64,64),batch_size=32,class_mode='binary')"
   ]
  },
  {
   "cell_type": "code",
   "execution_count": 11,
   "metadata": {
    "colab": {
     "base_uri": "https://localhost:8080/",
     "height": 972
    },
    "colab_type": "code",
    "executionInfo": {
     "elapsed": 484525,
     "status": "ok",
     "timestamp": 1589645290187,
     "user": {
      "displayName": "himaja chinamm",
      "photoUrl": "https://lh3.googleusercontent.com/a-/AOh14GjLOkXIWVXaJhfg2ZZlfOmOli8rhdpltTWSuNOXMQ=s64",
      "userId": "12626020970253881623"
     },
     "user_tz": -330
    },
    "id": "7BRV0PEA7N3l",
    "outputId": "a520a4bb-e2c5-459d-f17d-a5b7dd773e63"
   },
   "outputs": [
    {
     "name": "stderr",
     "output_type": "stream",
     "text": [
      "C:\\ProgramData\\Anaconda3\\lib\\site-packages\\ipykernel_launcher.py:1: UserWarning: The semantics of the Keras 2 argument `steps_per_epoch` is not the same as the Keras 1 argument `samples_per_epoch`. `steps_per_epoch` is the number of batches to draw from the generator at each epoch. Basically steps_per_epoch = samples_per_epoch/batch_size. Similarly `nb_val_samples`->`validation_steps` and `val_samples`->`steps` arguments have changed. Update your method calls accordingly.\n",
      "  \"\"\"Entry point for launching an IPython kernel.\n",
      "C:\\ProgramData\\Anaconda3\\lib\\site-packages\\ipykernel_launcher.py:1: UserWarning: Update your `fit_generator` call to the Keras 2 API: `fit_generator(<keras_pre..., steps_per_epoch=10, validation_data=<keras_pre..., validation_steps=5, epochs=25)`\n",
      "  \"\"\"Entry point for launching an IPython kernel.\n"
     ]
    },
    {
     "name": "stdout",
     "output_type": "stream",
     "text": [
      "WARNING:tensorflow:From C:\\ProgramData\\Anaconda3\\lib\\site-packages\\keras\\backend\\tensorflow_backend.py:986: The name tf.assign_add is deprecated. Please use tf.compat.v1.assign_add instead.\n",
      "\n",
      "Epoch 1/25\n",
      "10/10 [==============================] - 36s 4s/step - loss: 0.9674 - acc: 0.5844 - val_loss: 0.5410 - val_acc: 0.7267\n",
      "Epoch 2/25\n",
      "10/10 [==============================] - 20s 2s/step - loss: 0.4380 - acc: 0.7972 - val_loss: 0.2840 - val_acc: 0.9133\n",
      "Epoch 3/25\n",
      "10/10 [==============================] - 18s 2s/step - loss: 0.2437 - acc: 0.9089 - val_loss: 0.2576 - val_acc: 0.8867\n",
      "Epoch 4/25\n",
      "10/10 [==============================] - 18s 2s/step - loss: 0.1696 - acc: 0.9312 - val_loss: 0.2744 - val_acc: 0.8800\n",
      "Epoch 5/25\n",
      "10/10 [==============================] - 18s 2s/step - loss: 0.2140 - acc: 0.8979 - val_loss: 0.3105 - val_acc: 0.8667\n",
      "Epoch 6/25\n",
      "10/10 [==============================] - 17s 2s/step - loss: 0.2257 - acc: 0.8924 - val_loss: 0.3260 - val_acc: 0.8533\n",
      "Epoch 7/25\n",
      "10/10 [==============================] - 19s 2s/step - loss: 0.1489 - acc: 0.9374 - val_loss: 0.2743 - val_acc: 0.9000\n",
      "Epoch 8/25\n",
      "10/10 [==============================] - 21s 2s/step - loss: 0.1059 - acc: 0.9656 - val_loss: 0.2364 - val_acc: 0.9133\n",
      "Epoch 9/25\n",
      "10/10 [==============================] - 17s 2s/step - loss: 0.1138 - acc: 0.9593 - val_loss: 0.2473 - val_acc: 0.8867\n",
      "Epoch 10/25\n",
      "10/10 [==============================] - 20s 2s/step - loss: 0.1309 - acc: 0.9531 - val_loss: 0.4465 - val_acc: 0.8600\n",
      "Epoch 11/25\n",
      "10/10 [==============================] - 19s 2s/step - loss: 0.1253 - acc: 0.9625 - val_loss: 0.2718 - val_acc: 0.8800\n",
      "Epoch 12/25\n",
      "10/10 [==============================] - 19s 2s/step - loss: 0.0962 - acc: 0.9625 - val_loss: 0.3153 - val_acc: 0.8600\n",
      "Epoch 13/25\n",
      "10/10 [==============================] - 20s 2s/step - loss: 0.1186 - acc: 0.9554 - val_loss: 0.2339 - val_acc: 0.8933\n",
      "Epoch 14/25\n",
      "10/10 [==============================] - 16s 2s/step - loss: 0.0964 - acc: 0.9656 - val_loss: 0.2473 - val_acc: 0.8733\n",
      "Epoch 15/25\n",
      "10/10 [==============================] - 18s 2s/step - loss: 0.0846 - acc: 0.9679 - val_loss: 0.2415 - val_acc: 0.9000\n",
      "Epoch 16/25\n",
      "10/10 [==============================] - 21s 2s/step - loss: 0.1194 - acc: 0.9558 - val_loss: 0.2494 - val_acc: 0.9000\n",
      "Epoch 17/25\n",
      "10/10 [==============================] - 19s 2s/step - loss: 0.1143 - acc: 0.9499 - val_loss: 0.2646 - val_acc: 0.8933\n",
      "Epoch 18/25\n",
      "10/10 [==============================] - 17s 2s/step - loss: 0.0510 - acc: 0.9875 - val_loss: 0.2442 - val_acc: 0.9000\n",
      "Epoch 19/25\n",
      "10/10 [==============================] - 19s 2s/step - loss: 0.0718 - acc: 0.9773 - val_loss: 0.2784 - val_acc: 0.8933\n",
      "Epoch 20/25\n",
      "10/10 [==============================] - 19s 2s/step - loss: 0.0777 - acc: 0.9714 - val_loss: 0.2621 - val_acc: 0.9000\n",
      "Epoch 21/25\n",
      "10/10 [==============================] - 18s 2s/step - loss: 0.0558 - acc: 0.9875 - val_loss: 0.2376 - val_acc: 0.9000\n",
      "Epoch 22/25\n",
      "10/10 [==============================] - 18s 2s/step - loss: 0.0610 - acc: 0.9746 - val_loss: 0.2633 - val_acc: 0.9067\n",
      "Epoch 23/25\n",
      "10/10 [==============================] - 17s 2s/step - loss: 0.0949 - acc: 0.9750 - val_loss: 0.2566 - val_acc: 0.9067\n",
      "Epoch 24/25\n",
      "10/10 [==============================] - 18s 2s/step - loss: 0.0501 - acc: 0.9840 - val_loss: 0.2198 - val_acc: 0.9133\n",
      "Epoch 25/25\n",
      "10/10 [==============================] - 21s 2s/step - loss: 0.0802 - acc: 0.9781 - val_loss: 0.2832 - val_acc: 0.8867\n"
     ]
    },
    {
     "data": {
      "text/plain": [
       "<keras.callbacks.History at 0x43895e2358>"
      ]
     },
     "execution_count": 11,
     "metadata": {},
     "output_type": "execute_result"
    }
   ],
   "source": [
    "model.fit_generator(x_train,steps_per_epoch=10,nb_epoch=25,validation_data=x_test,validation_steps=5)"
   ]
  },
  {
   "cell_type": "code",
   "execution_count": 12,
   "metadata": {
    "colab": {},
    "colab_type": "code",
    "id": "YEjlbku1F730"
   },
   "outputs": [],
   "source": [
    "model.save(\"combustion.h5\")"
   ]
  },
  {
   "cell_type": "code",
   "execution_count": 13,
   "metadata": {},
   "outputs": [
    {
     "name": "stdout",
     "output_type": "stream",
     "text": [
      "{'nofire': 0, 'withfire': 1}\n"
     ]
    }
   ],
   "source": [
    "print(x_train.class_indices)"
   ]
  },
  {
   "cell_type": "code",
   "execution_count": null,
   "metadata": {},
   "outputs": [],
   "source": []
  }
 ],
 "metadata": {
  "accelerator": "GPU",
  "colab": {
   "name": "Forest Combustion Recognition using AI.ipynb",
   "provenance": []
  },
  "kernelspec": {
   "display_name": "Python 3",
   "language": "python",
   "name": "python3"
  },
  "language_info": {
   "codemirror_mode": {
    "name": "ipython",
    "version": 3
   },
   "file_extension": ".py",
   "mimetype": "text/x-python",
   "name": "python",
   "nbconvert_exporter": "python",
   "pygments_lexer": "ipython3",
   "version": "3.7.1"
  }
 },
 "nbformat": 4,
 "nbformat_minor": 1
}
